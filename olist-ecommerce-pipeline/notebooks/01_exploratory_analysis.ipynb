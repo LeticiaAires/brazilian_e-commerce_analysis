{
 "cells": [
  {
   "cell_type": "markdown",
   "id": "1b5f417f",
   "metadata": {},
   "source": [
    "# Brazilian E-Commerce Data Exploration\n",
    "## Olist Dataset - Bronze Layer Analysis"
   ]
  },
  {
   "cell_type": "markdown",
   "id": "150c1b47",
   "metadata": {},
   "source": [
    "### 1. Setup e Imports\n"
   ]
  },
  {
   "cell_type": "code",
   "execution_count": 10,
   "id": "152bc61e",
   "metadata": {},
   "outputs": [],
   "source": [
    "import pandas as pd\n",
    "import numpy as np\n",
    "import matplotlib.pyplot as plt\n",
    "import seaborn as sns\n",
    "from pathlib import Path"
   ]
  },
  {
   "cell_type": "markdown",
   "id": "75e12a2d",
   "metadata": {},
   "source": [
    "### 2. Carregar dados"
   ]
  },
  {
   "cell_type": "code",
   "execution_count": 11,
   "id": "e9e603ac",
   "metadata": {},
   "outputs": [
    {
     "name": "stdout",
     "output_type": "stream",
     "text": [
      "✅ Dados carregados com sucesso!\n"
     ]
    }
   ],
   "source": [
    "df_orders = pd.read_csv('../data/raw/olist_orders_dataset.csv')\n",
    "df_order_items = pd.read_csv('../data/raw/olist_order_items_dataset.csv')\n",
    "df_customers = pd.read_csv('../data/raw/olist_customers_dataset.csv')\n",
    "df_products = pd.read_csv('../data/raw/olist_products_dataset.csv')\n",
    "df_sellers = pd.read_csv('../data/raw/olist_sellers_dataset.csv')\n",
    "df_reviews = pd.read_csv('../data/raw/olist_order_reviews_dataset.csv')\n",
    "df_payments = pd.read_csv('../data/raw/olist_order_payments_dataset.csv')\n",
    "df_geolocation = pd.read_csv('../data/raw/olist_geolocation_dataset.csv')\n",
    "df_category_translation = pd.read_csv('../data/raw/product_category_name_translation.csv')\n",
    "print(\"✅ Dados carregados com sucesso!\")"
   ]
  },
  {
   "cell_type": "markdown",
   "id": "72ef4b4a",
   "metadata": {},
   "source": [
    "### 3. Visão geral dos datasets"
   ]
  },
  {
   "cell_type": "code",
   "execution_count": 13,
   "id": "32319b5b",
   "metadata": {},
   "outputs": [
    {
     "name": "stdout",
     "output_type": "stream",
     "text": [
      "📊 SHAPE DOS DATASETS\n",
      "\n",
      "Orders: (99441, 8)\n",
      "Order Items: (112650, 7)\n",
      "Customers: (99441, 5)\n",
      "Products: (32951, 9)\n",
      "Sellers: (3095, 4)\n",
      "Reviews: (99224, 7)\n",
      "Payments: (103886, 5)\n",
      "Geolocation: (1000163, 5)\n",
      "Translation: (71, 2)\n"
     ]
    }
   ],
   "source": [
    "print(\"📊 SHAPE DOS DATASETS\\n\")\n",
    "print(f\"Orders: {df_orders.shape}\")\n",
    "print(f\"Order Items: {df_order_items.shape}\")\n",
    "print(f\"Customers: {df_customers.shape}\")\n",
    "print(f\"Products: {df_products.shape}\")\n",
    "print(f\"Sellers: {df_sellers.shape}\")\n",
    "print(f\"Reviews: {df_reviews.shape}\")\n",
    "print(f\"Payments: {df_payments.shape}\")\n",
    "print(f\"Geolocation: {df_geolocation.shape}\")\n",
    "print(f\"Translation: {df_category_translation.shape}\")\n"
   ]
  },
  {
   "cell_type": "markdown",
   "id": "5e8cf998",
   "metadata": {},
   "source": [
    "### 4. Colunas Infos"
   ]
  },
  {
   "cell_type": "code",
   "execution_count": 26,
   "id": "1975d911",
   "metadata": {},
   "outputs": [
    {
     "name": "stdout",
     "output_type": "stream",
     "text": [
      "\n",
      "INFO ORDERS:\n",
      "<class 'pandas.core.frame.DataFrame'>\n",
      "RangeIndex: 99441 entries, 0 to 99440\n",
      "Data columns (total 8 columns):\n",
      " #   Column                         Non-Null Count  Dtype \n",
      "---  ------                         --------------  ----- \n",
      " 0   order_id                       99441 non-null  object\n",
      " 1   customer_id                    99441 non-null  object\n",
      " 2   order_status                   99441 non-null  object\n",
      " 3   order_purchase_timestamp       99441 non-null  object\n",
      " 4   order_approved_at              99281 non-null  object\n",
      " 5   order_delivered_carrier_date   97658 non-null  object\n",
      " 6   order_delivered_customer_date  96476 non-null  object\n",
      " 7   order_estimated_delivery_date  99441 non-null  object\n",
      "dtypes: object(8)\n",
      "memory usage: 6.1+ MB\n"
     ]
    }
   ],
   "source": [
    "print(\"\\nINFO ORDERS:\")\n",
    "df_orders.info()\n"
   ]
  },
  {
   "cell_type": "code",
   "execution_count": null,
   "id": "79602442",
   "metadata": {},
   "outputs": [
    {
     "name": "stdout",
     "output_type": "stream",
     "text": [
      "\n",
      "INFO CUSTOMERS:\n",
      "<class 'pandas.core.frame.DataFrame'>\n",
      "RangeIndex: 99441 entries, 0 to 99440\n",
      "Data columns (total 5 columns):\n",
      " #   Column                    Non-Null Count  Dtype \n",
      "---  ------                    --------------  ----- \n",
      " 0   customer_id               99441 non-null  object\n",
      " 1   customer_unique_id        99441 non-null  object\n",
      " 2   customer_zip_code_prefix  99441 non-null  int64 \n",
      " 3   customer_city             99441 non-null  object\n",
      " 4   customer_state            99441 non-null  object\n",
      "dtypes: int64(1), object(4)\n",
      "memory usage: 3.8+ MB\n"
     ]
    }
   ],
   "source": [
    "print(\"\\nINFO CUSTOMERS:\")\n",
    "df_customers.info()"
   ]
  }
 ],
 "metadata": {
  "kernelspec": {
   "display_name": "Python 3",
   "language": "python",
   "name": "python3"
  },
  "language_info": {
   "codemirror_mode": {
    "name": "ipython",
    "version": 3
   },
   "file_extension": ".py",
   "mimetype": "text/x-python",
   "name": "python",
   "nbconvert_exporter": "python",
   "pygments_lexer": "ipython3",
   "version": "3.13.7"
  }
 },
 "nbformat": 4,
 "nbformat_minor": 5
}
